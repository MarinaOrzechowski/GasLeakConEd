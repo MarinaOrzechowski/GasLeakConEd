{
 "cells": [
  {
   "cell_type": "code",
   "execution_count": 3,
   "metadata": {},
   "outputs": [],
   "source": [
    "import pandas as pd"
   ]
  },
  {
   "cell_type": "code",
   "execution_count": 2,
   "metadata": {},
   "outputs": [],
   "source": [
    "files = [str(i)+'.xlsx' for i in range(1,10)]"
   ]
  },
  {
   "cell_type": "code",
   "execution_count": null,
   "metadata": {},
   "outputs": [],
   "source": [
    "dfs =  []\n",
    "for file in files:\n",
    "    dfs.append(pd.read_excel('C:\\\\Users\\\\mskac\\\\machineLearning\\\\GasLeakConEd\\\\data\\\\original\\\\amirsFiles\\\\'+ file))"
   ]
  },
  {
   "cell_type": "code",
   "execution_count": null,
   "metadata": {},
   "outputs": [],
   "source": [
    "dfs[5].head()"
   ]
  },
  {
   "cell_type": "code",
   "execution_count": null,
   "metadata": {},
   "outputs": [],
   "source": [
    "pd.set_option('display.max_columns', None)"
   ]
  },
  {
   "cell_type": "code",
   "execution_count": null,
   "metadata": {},
   "outputs": [],
   "source": [
    "dfs[0]=dfs[0][['BOROUGH\\n', 'County', 'NEIGHBORHOOD\\n', 'SALE PRICE\\n', 'SALE DATE\\n', 'Result.address.censusTract2010','Result.address.latitude', 'Result.address.longitude']]"
   ]
  },
  {
   "cell_type": "code",
   "execution_count": null,
   "metadata": {},
   "outputs": [],
   "source": [
    "dfs[1].head()"
   ]
  },
  {
   "cell_type": "code",
   "execution_count": 31,
   "metadata": {},
   "outputs": [
    {
     "data": {
      "text/html": [
       "<div>\n",
       "<style scoped>\n",
       "    .dataframe tbody tr th:only-of-type {\n",
       "        vertical-align: middle;\n",
       "    }\n",
       "\n",
       "    .dataframe tbody tr th {\n",
       "        vertical-align: top;\n",
       "    }\n",
       "\n",
       "    .dataframe thead th {\n",
       "        text-align: right;\n",
       "    }\n",
       "</style>\n",
       "<table border=\"1\" class=\"dataframe\">\n",
       "  <thead>\n",
       "    <tr style=\"text-align: right;\">\n",
       "      <th></th>\n",
       "      <th>Column1</th>\n",
       "      <th>Column2</th>\n",
       "      <th>Column3</th>\n",
       "      <th>Column4</th>\n",
       "      <th>Column5</th>\n",
       "      <th>Column6</th>\n",
       "      <th>Column7</th>\n",
       "      <th>Column8</th>\n",
       "      <th>Column9</th>\n",
       "      <th>Column10</th>\n",
       "      <th>Column11</th>\n",
       "      <th>Column12</th>\n",
       "      <th>Column13</th>\n",
       "      <th>Column14</th>\n",
       "      <th>Column15</th>\n",
       "      <th>Column16</th>\n",
       "      <th>Column17</th>\n",
       "      <th>Column18</th>\n",
       "      <th>Column19</th>\n",
       "      <th>Column20</th>\n",
       "      <th>Column21</th>\n",
       "      <th>Column22.address.censusTract2000</th>\n",
       "      <th>Column22.address.censusTract2010</th>\n",
       "      <th>Column22.address.communityDistrict</th>\n",
       "      <th>Column22.address.latitude</th>\n",
       "      <th>Column22.address.longitude</th>\n",
       "      <th>Column22.address.zipCode</th>\n",
       "    </tr>\n",
       "  </thead>\n",
       "  <tbody>\n",
       "    <tr>\n",
       "      <th>1</th>\n",
       "      <td>1438</td>\n",
       "      <td>2</td>\n",
       "      <td>Bronx</td>\n",
       "      <td>Bronx</td>\n",
       "      <td>CROTONA PARK</td>\n",
       "      <td>02  TWO FAMILY DWELLINGS</td>\n",
       "      <td>NaN</td>\n",
       "      <td></td>\n",
       "      <td>160000</td>\n",
       "      <td>41933</td>\n",
       "      <td>1416</td>\n",
       "      <td>CROTONA</td>\n",
       "      <td>PARK</td>\n",
       "      <td>EAST</td>\n",
       "      <td>NaN</td>\n",
       "      <td>NaN</td>\n",
       "      <td>NaN</td>\n",
       "      <td>CROTONA PARK EAST</td>\n",
       "      <td>NaN</td>\n",
       "      <td>NaN</td>\n",
       "      <td>https://api.cityofnewyork.us/geoclient/v1/addr...</td>\n",
       "      <td>153.0</td>\n",
       "      <td>153.0</td>\n",
       "      <td>203.0</td>\n",
       "      <td>40.834566</td>\n",
       "      <td>-73.896390</td>\n",
       "      <td>10460.0</td>\n",
       "    </tr>\n",
       "    <tr>\n",
       "      <th>2</th>\n",
       "      <td>1439</td>\n",
       "      <td>2</td>\n",
       "      <td>Bronx</td>\n",
       "      <td>Bronx</td>\n",
       "      <td>CROTONA PARK</td>\n",
       "      <td>02  TWO FAMILY DWELLINGS</td>\n",
       "      <td>NaN</td>\n",
       "      <td></td>\n",
       "      <td>330000</td>\n",
       "      <td>41788</td>\n",
       "      <td>712</td>\n",
       "      <td>EAST</td>\n",
       "      <td>175</td>\n",
       "      <td>STREET</td>\n",
       "      <td>NaN</td>\n",
       "      <td>NaN</td>\n",
       "      <td>NaN</td>\n",
       "      <td>EAST 175 STREET</td>\n",
       "      <td>NaN</td>\n",
       "      <td>NaN</td>\n",
       "      <td>https://api.cityofnewyork.us/geoclient/v1/addr...</td>\n",
       "      <td>36902.0</td>\n",
       "      <td>36902.0</td>\n",
       "      <td>206.0</td>\n",
       "      <td>40.842596</td>\n",
       "      <td>-73.893045</td>\n",
       "      <td>10457.0</td>\n",
       "    </tr>\n",
       "    <tr>\n",
       "      <th>3</th>\n",
       "      <td>1440</td>\n",
       "      <td>2</td>\n",
       "      <td>Bronx</td>\n",
       "      <td>Bronx</td>\n",
       "      <td>CROTONA PARK</td>\n",
       "      <td>02  TWO FAMILY DWELLINGS</td>\n",
       "      <td>NaN</td>\n",
       "      <td></td>\n",
       "      <td>220000</td>\n",
       "      <td>41869</td>\n",
       "      <td>709</td>\n",
       "      <td>EAST</td>\n",
       "      <td>175TH</td>\n",
       "      <td>STREET</td>\n",
       "      <td>NaN</td>\n",
       "      <td>NaN</td>\n",
       "      <td>NaN</td>\n",
       "      <td>EAST 175TH STREET</td>\n",
       "      <td>NaN</td>\n",
       "      <td>NaN</td>\n",
       "      <td>https://api.cityofnewyork.us/geoclient/v1/addr...</td>\n",
       "      <td>36902.0</td>\n",
       "      <td>36902.0</td>\n",
       "      <td>206.0</td>\n",
       "      <td>40.842659</td>\n",
       "      <td>-73.893114</td>\n",
       "      <td>10457.0</td>\n",
       "    </tr>\n",
       "    <tr>\n",
       "      <th>4</th>\n",
       "      <td>1441</td>\n",
       "      <td>2</td>\n",
       "      <td>Bronx</td>\n",
       "      <td>Bronx</td>\n",
       "      <td>CROTONA PARK</td>\n",
       "      <td>02  TWO FAMILY DWELLINGS</td>\n",
       "      <td>NaN</td>\n",
       "      <td></td>\n",
       "      <td>299130</td>\n",
       "      <td>41859</td>\n",
       "      <td>816</td>\n",
       "      <td>EAST</td>\n",
       "      <td>175</td>\n",
       "      <td>STREET</td>\n",
       "      <td>NaN</td>\n",
       "      <td>NaN</td>\n",
       "      <td>NaN</td>\n",
       "      <td>EAST 175 STREET</td>\n",
       "      <td>NaN</td>\n",
       "      <td>NaN</td>\n",
       "      <td>https://api.cityofnewyork.us/geoclient/v1/addr...</td>\n",
       "      <td>367.0</td>\n",
       "      <td>367.0</td>\n",
       "      <td>206.0</td>\n",
       "      <td>40.840925</td>\n",
       "      <td>-73.890207</td>\n",
       "      <td>10460.0</td>\n",
       "    </tr>\n",
       "    <tr>\n",
       "      <th>5</th>\n",
       "      <td>1442</td>\n",
       "      <td>2</td>\n",
       "      <td>Bronx</td>\n",
       "      <td>Bronx</td>\n",
       "      <td>CROTONA PARK</td>\n",
       "      <td>02  TWO FAMILY DWELLINGS</td>\n",
       "      <td>NaN</td>\n",
       "      <td></td>\n",
       "      <td>712470</td>\n",
       "      <td>41676</td>\n",
       "      <td>816</td>\n",
       "      <td>EAST</td>\n",
       "      <td>175</td>\n",
       "      <td>STREET</td>\n",
       "      <td>NaN</td>\n",
       "      <td>NaN</td>\n",
       "      <td>NaN</td>\n",
       "      <td>EAST 175 STREET</td>\n",
       "      <td>NaN</td>\n",
       "      <td>NaN</td>\n",
       "      <td>https://api.cityofnewyork.us/geoclient/v1/addr...</td>\n",
       "      <td>367.0</td>\n",
       "      <td>367.0</td>\n",
       "      <td>206.0</td>\n",
       "      <td>40.840925</td>\n",
       "      <td>-73.890207</td>\n",
       "      <td>10460.0</td>\n",
       "    </tr>\n",
       "  </tbody>\n",
       "</table>\n",
       "</div>"
      ],
      "text/plain": [
       "  Column1 Column2 Column3 Column4                    Column5  \\\n",
       "1    1438       2   Bronx   Bronx  CROTONA PARK                \n",
       "2    1439       2   Bronx   Bronx  CROTONA PARK                \n",
       "3    1440       2   Bronx   Bronx  CROTONA PARK                \n",
       "4    1441       2   Bronx   Bronx  CROTONA PARK                \n",
       "5    1442       2   Bronx   Bronx  CROTONA PARK                \n",
       "\n",
       "                                        Column6  Column7       Column8  \\\n",
       "1  02  TWO FAMILY DWELLINGS                          NaN                 \n",
       "2  02  TWO FAMILY DWELLINGS                          NaN                 \n",
       "3  02  TWO FAMILY DWELLINGS                          NaN                 \n",
       "4  02  TWO FAMILY DWELLINGS                          NaN                 \n",
       "5  02  TWO FAMILY DWELLINGS                          NaN                 \n",
       "\n",
       "  Column9 Column10 Column11 Column12 Column13 Column14 Column15 Column16  \\\n",
       "1  160000    41933     1416  CROTONA     PARK     EAST      NaN      NaN   \n",
       "2  330000    41788      712     EAST      175   STREET      NaN      NaN   \n",
       "3  220000    41869      709     EAST    175TH   STREET      NaN      NaN   \n",
       "4  299130    41859      816     EAST      175   STREET      NaN      NaN   \n",
       "5  712470    41676      816     EAST      175   STREET      NaN      NaN   \n",
       "\n",
       "  Column17            Column18  Column19  Column20  \\\n",
       "1      NaN  CROTONA PARK EAST        NaN       NaN   \n",
       "2      NaN    EAST 175 STREET        NaN       NaN   \n",
       "3      NaN  EAST 175TH STREET        NaN       NaN   \n",
       "4      NaN    EAST 175 STREET        NaN       NaN   \n",
       "5      NaN    EAST 175 STREET        NaN       NaN   \n",
       "\n",
       "                                            Column21  \\\n",
       "1  https://api.cityofnewyork.us/geoclient/v1/addr...   \n",
       "2  https://api.cityofnewyork.us/geoclient/v1/addr...   \n",
       "3  https://api.cityofnewyork.us/geoclient/v1/addr...   \n",
       "4  https://api.cityofnewyork.us/geoclient/v1/addr...   \n",
       "5  https://api.cityofnewyork.us/geoclient/v1/addr...   \n",
       "\n",
       "   Column22.address.censusTract2000  Column22.address.censusTract2010  \\\n",
       "1                             153.0                             153.0   \n",
       "2                           36902.0                           36902.0   \n",
       "3                           36902.0                           36902.0   \n",
       "4                             367.0                             367.0   \n",
       "5                             367.0                             367.0   \n",
       "\n",
       "   Column22.address.communityDistrict  Column22.address.latitude  \\\n",
       "1                               203.0                  40.834566   \n",
       "2                               206.0                  40.842596   \n",
       "3                               206.0                  40.842659   \n",
       "4                               206.0                  40.840925   \n",
       "5                               206.0                  40.840925   \n",
       "\n",
       "   Column22.address.longitude  Column22.address.zipCode  \n",
       "1                  -73.896390                   10460.0  \n",
       "2                  -73.893045                   10457.0  \n",
       "3                  -73.893114                   10457.0  \n",
       "4                  -73.890207                   10460.0  \n",
       "5                  -73.890207                   10460.0  "
      ]
     },
     "execution_count": 31,
     "metadata": {},
     "output_type": "execute_result"
    }
   ],
   "source": [
    "dfs[1]=dfs[1][['Column3', 'Column4', 'Column5', 'Column3', 'Column3', 'Column3']]"
   ]
  },
  {
   "cell_type": "code",
   "execution_count": 13,
   "metadata": {},
   "outputs": [
    {
     "ename": "IndexError",
     "evalue": "list index out of range",
     "output_type": "error",
     "traceback": [
      "\u001b[1;31m---------------------------------------------------------------------------\u001b[0m",
      "\u001b[1;31mIndexError\u001b[0m                                Traceback (most recent call last)",
      "\u001b[1;32m<ipython-input-13-672d0a764d0f>\u001b[0m in \u001b[0;36m<module>\u001b[1;34m\u001b[0m\n\u001b[0;32m      3\u001b[0m \u001b[1;32mfor\u001b[0m \u001b[0mk\u001b[0m \u001b[1;32min\u001b[0m \u001b[0mrange\u001b[0m\u001b[1;33m(\u001b[0m\u001b[1;36m1\u001b[0m\u001b[1;33m,\u001b[0m\u001b[1;36m10\u001b[0m\u001b[1;33m)\u001b[0m\u001b[1;33m:\u001b[0m\u001b[1;33m\u001b[0m\u001b[1;33m\u001b[0m\u001b[0m\n\u001b[0;32m      4\u001b[0m     \u001b[1;32mfor\u001b[0m \u001b[0mi\u001b[0m \u001b[1;32min\u001b[0m \u001b[0mrange\u001b[0m\u001b[1;33m(\u001b[0m\u001b[0mlen\u001b[0m\u001b[1;33m(\u001b[0m\u001b[0mold\u001b[0m\u001b[1;33m)\u001b[0m\u001b[1;33m)\u001b[0m\u001b[1;33m:\u001b[0m\u001b[1;33m\u001b[0m\u001b[1;33m\u001b[0m\u001b[0m\n\u001b[1;32m----> 5\u001b[1;33m         \u001b[0mdfs\u001b[0m\u001b[1;33m[\u001b[0m\u001b[0mk\u001b[0m\u001b[1;33m]\u001b[0m\u001b[1;33m.\u001b[0m\u001b[0mrename\u001b[0m\u001b[1;33m(\u001b[0m\u001b[1;33m{\u001b[0m\u001b[0mold\u001b[0m\u001b[1;33m[\u001b[0m\u001b[0mi\u001b[0m\u001b[1;33m]\u001b[0m\u001b[1;33m:\u001b[0m\u001b[0mnew\u001b[0m\u001b[1;33m[\u001b[0m\u001b[0mi\u001b[0m\u001b[1;33m]\u001b[0m\u001b[1;33m}\u001b[0m\u001b[1;33m)\u001b[0m\u001b[1;33m\u001b[0m\u001b[1;33m\u001b[0m\u001b[0m\n\u001b[0m\u001b[0;32m      6\u001b[0m \u001b[0mdfs\u001b[0m\u001b[1;33m[\u001b[0m\u001b[1;36m1\u001b[0m\u001b[1;33m]\u001b[0m\u001b[1;33m.\u001b[0m\u001b[0mhead\u001b[0m\u001b[1;33m(\u001b[0m\u001b[1;33m)\u001b[0m\u001b[1;33m\u001b[0m\u001b[1;33m\u001b[0m\u001b[0m\n",
      "\u001b[1;31mIndexError\u001b[0m: list index out of range"
     ]
    }
   ],
   "source": [
    "old = dfs[1].columns\n",
    "new = dfs[0].columns\n",
    "for k in range(1,10):\n",
    "    for i in range(len(old)):\n",
    "        dfs[k].rename({old[i]:new[i]})\n",
    "dfs[1].head()"
   ]
  },
  {
   "cell_type": "code",
   "execution_count": null,
   "metadata": {},
   "outputs": [],
   "source": []
  },
  {
   "cell_type": "code",
   "execution_count": 11,
   "metadata": {},
   "outputs": [
    {
     "name": "stderr",
     "output_type": "stream",
     "text": [
      "C:\\Users\\mskac\\Anaconda3\\lib\\site-packages\\pandas\\core\\computation\\expressions.py:68: FutureWarning: elementwise comparison failed; returning scalar instead, but in the future will perform elementwise comparison\n",
      "  return op(a, b)\n",
      "C:\\Users\\mskac\\Anaconda3\\lib\\site-packages\\pandas\\core\\computation\\expressions.py:68: FutureWarning: elementwise comparison failed; returning scalar instead, but in the future will perform elementwise comparison\n",
      "  return op(a, b)\n",
      "C:\\Users\\mskac\\Anaconda3\\lib\\site-packages\\pandas\\core\\computation\\expressions.py:68: FutureWarning: elementwise comparison failed; returning scalar instead, but in the future will perform elementwise comparison\n",
      "  return op(a, b)\n",
      "C:\\Users\\mskac\\Anaconda3\\lib\\site-packages\\pandas\\core\\computation\\expressions.py:68: FutureWarning: elementwise comparison failed; returning scalar instead, but in the future will perform elementwise comparison\n",
      "  return op(a, b)\n"
     ]
    }
   ],
   "source": [
    "for i in range(1,9):\n",
    "    df = dfs[i]\n",
    "    df = df[df['Column1'] != 'Index']\n",
    "    dfs[i] = df"
   ]
  },
  {
   "cell_type": "code",
   "execution_count": null,
   "metadata": {},
   "outputs": [],
   "source": []
  },
  {
   "cell_type": "code",
   "execution_count": 5,
   "metadata": {},
   "outputs": [
    {
     "name": "stderr",
     "output_type": "stream",
     "text": [
      "C:\\Users\\mskac\\Anaconda3\\lib\\site-packages\\IPython\\core\\interactiveshell.py:3146: DtypeWarning: Columns (19,20,22,24) have mixed types.Specify dtype option on import or set low_memory=False.\n",
      "  interactivity=interactivity, compiler=compiler, result=result)\n"
     ]
    }
   ],
   "source": [
    "pluto = pd.read_csv(r'D:\\CCNYFall20\\pluto.csv')"
   ]
  },
  {
   "cell_type": "code",
   "execution_count": 6,
   "metadata": {},
   "outputs": [
    {
     "data": {
      "text/plain": [
       "Index(['borough', 'block', 'lot', 'cd', 'ct2010', 'cb2010', 'schooldist',\n",
       "       'council', 'zipcode', 'firecomp', 'policeprct', 'healthcenterdistrict',\n",
       "       'healtharea', 'sanitboro', 'sanitdistrict', 'sanitsub', 'address',\n",
       "       'zonedist1', 'zonedist2', 'zonedist3', 'zonedist4', 'overlay1',\n",
       "       'overlay2', 'spdist1', 'spdist2', 'spdist3', 'ltdheight', 'splitzone',\n",
       "       'bldgclass', 'landuse', 'easements', 'ownertype', 'ownername',\n",
       "       'lotarea', 'bldgarea', 'comarea', 'resarea', 'officearea', 'retailarea',\n",
       "       'garagearea', 'strgearea', 'factryarea', 'otherarea', 'areasource',\n",
       "       'numbldgs', 'numfloors', 'unitsres', 'unitstotal', 'lotfront',\n",
       "       'lotdepth', 'bldgfront', 'bldgdepth', 'ext', 'proxcode', 'irrlotcode',\n",
       "       'lottype', 'bsmtcode', 'assessland', 'assesstot', 'exempttot',\n",
       "       'yearbuilt', 'yearalter1', 'yearalter2', 'histdist', 'landmark',\n",
       "       'builtfar', 'residfar', 'commfar', 'facilfar', 'borocode', 'bbl',\n",
       "       'condono', 'tract2010', 'xcoord', 'ycoord', 'zonemap', 'zmcode',\n",
       "       'sanborn', 'taxmap', 'edesignum', 'appbbl', 'appdate', 'plutomapid',\n",
       "       'firm07_flag', 'pfirm15_flag', 'version', 'dcpedited', 'latitude',\n",
       "       'longitude', 'notes'],\n",
       "      dtype='object')"
      ]
     },
     "execution_count": 6,
     "metadata": {},
     "output_type": "execute_result"
    }
   ],
   "source": [
    "pluto.columns"
   ]
  },
  {
   "cell_type": "code",
   "execution_count": 11,
   "metadata": {},
   "outputs": [
    {
     "data": {
      "text/plain": [
       "858388"
      ]
     },
     "execution_count": 11,
     "metadata": {},
     "output_type": "execute_result"
    }
   ],
   "source": [
    "len(pluto)"
   ]
  },
  {
   "cell_type": "code",
   "execution_count": 12,
   "metadata": {},
   "outputs": [
    {
     "data": {
      "text/plain": [
       "35466"
      ]
     },
     "execution_count": 12,
     "metadata": {},
     "output_type": "execute_result"
    }
   ],
   "source": [
    "len(pluto[pluto['ownertype'].notnull()])"
   ]
  },
  {
   "cell_type": "code",
   "execution_count": 10,
   "metadata": {},
   "outputs": [
    {
     "data": {
      "text/plain": [
       "array([nan, 'X', 'C', 'P', 'O', 'M'], dtype=object)"
      ]
     },
     "execution_count": 10,
     "metadata": {},
     "output_type": "execute_result"
    }
   ],
   "source": [
    "pluto['ownertype'].unique()"
   ]
  },
  {
   "cell_type": "code",
   "execution_count": null,
   "metadata": {},
   "outputs": [],
   "source": []
  }
 ],
 "metadata": {
  "kernelspec": {
   "display_name": "Python 3",
   "language": "python",
   "name": "python3"
  },
  "language_info": {
   "codemirror_mode": {
    "name": "ipython",
    "version": 3
   },
   "file_extension": ".py",
   "mimetype": "text/x-python",
   "name": "python",
   "nbconvert_exporter": "python",
   "pygments_lexer": "ipython3",
   "version": "3.7.7"
  }
 },
 "nbformat": 4,
 "nbformat_minor": 4
}
