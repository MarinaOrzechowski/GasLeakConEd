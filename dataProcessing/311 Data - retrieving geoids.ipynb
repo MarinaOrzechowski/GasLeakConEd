{
 "cells": [
  {
   "cell_type": "code",
   "execution_count": 8,
   "metadata": {},
   "outputs": [],
   "source": [
    "# group all 311 data by buildings, \n",
    "# get buildings' geoid using api and shapefiles,\n",
    "# build a dictionary with key = (long, lat), and val= geoid\n",
    "# process all 311 qualifying calls using the dictionary and retreive geoid\n",
    "\n",
    "from shapely.geometry import Point, Polygon, MultiPolygon\n",
    "import geopandas as gpd\n",
    "import pandas as pd\n",
    "shapefile_directory = r'D:\\dataGasLeaks\\NYC_Census_Tracts_for_2010_US_Census-shp\\NYC_Census_Tracts_for_2010_US_Census.shp'\n",
    "shapefile = gpd.read_file(shapefile_directory)\n",
    "\n",
    "dff = pd.read_csv('D://dataGasLeaks//311_Service_Requests_updated.csv')\n",
    "dff.shape\n",
    "dff['count'] = 1\n",
    "grouped_df = dff.groupby(['Created Date','Latitude', 'Longitude']).agg({'Borough': 'first', 'count': 'sum'})\n",
    "grouped2_df = grouped_df.groupby(['Latitude', 'Longitude']).agg({'Borough': 'first', 'count': 'sum'})"
   ]
  },
  {
   "cell_type": "markdown",
   "metadata": {},
   "source": [
    "## Dataframe with data from API: shorted block Fips to geoid, \n",
    "## Dataframe with data from shapefile: leftpad with zeros (6digits), find counties, create geoid"
   ]
  },
  {
   "cell_type": "code",
   "execution_count": 37,
   "metadata": {},
   "outputs": [],
   "source": [
    "df1 = pd.read_csv('D://dataGasLeaks//311_Service_Requests_part13.csv')\n",
    "df1 = df1[df1['ct'].notna()]\n",
    "df1['ct'] = df1['ct'].astype(str).str[:11]"
   ]
  },
  {
   "cell_type": "code",
   "execution_count": 82,
   "metadata": {},
   "outputs": [
    {
     "name": "stderr",
     "output_type": "stream",
     "text": [
      "C:\\Users\\mskac\\Anaconda3\\lib\\site-packages\\IPython\\core\\interactiveshell.py:3146: DtypeWarning: Columns (6,7) have mixed types.Specify dtype option on import or set low_memory=False.\n",
      "  interactivity=interactivity, compiler=compiler, result=result)\n"
     ]
    }
   ],
   "source": [
    "df2 = pd.read_csv('D://dataGasLeaks//311_Service_Requests_part9.csv')\n",
    "df2 = df2[df2['ct'].notna()]"
   ]
  },
  {
   "cell_type": "code",
   "execution_count": 84,
   "metadata": {},
   "outputs": [],
   "source": [
    "shapefile_directory = r'D:\\dataGasLeaks\\table_2010_census_tracts_with_geoid\\table_2010_census_tracts_with_geoid.shp'\n",
    "shapefile = gpd.read_file(shapefile_directory)"
   ]
  },
  {
   "cell_type": "code",
   "execution_count": 123,
   "metadata": {},
   "outputs": [
    {
     "data": {
      "text/plain": [
       "Unnamed: 0                200062\n",
       "Latitude                 40.6089\n",
       "Longitude               -74.0746\n",
       "Borough            STATEN ISLAND\n",
       "count                          9\n",
       "ct                    3.6085e+14\n",
       "boro               Staten Island\n",
       "nta           Stapleton-Rosebank\n",
       "Name: 200062, dtype: object"
      ]
     },
     "execution_count": 123,
     "metadata": {},
     "output_type": "execute_result"
    }
   ],
   "source": [
    "df2.iloc[199999]"
   ]
  },
  {
   "cell_type": "code",
   "execution_count": 107,
   "metadata": {},
   "outputs": [],
   "source": [
    "df2.to_csv(r'D:\\dataGasLeaks\\df2_api.csv')"
   ]
  },
  {
   "cell_type": "code",
   "execution_count": 126,
   "metadata": {},
   "outputs": [],
   "source": [
    "for ind, row in df2[500000:len(df2)].iterrows():\n",
    "    p = Point(row['Longitude'], row['Latitude'])\n",
    "    for ind_shape, shape in shapefile.iterrows():\n",
    "        if p.within(shape['geometry']):\n",
    "            df2.at[ind, 'ct'] = str(shape['block_fips'])\n",
    "            break"
   ]
  },
  {
   "cell_type": "code",
   "execution_count": 129,
   "metadata": {},
   "outputs": [],
   "source": [
    "df = pd.concat([df1, df2[:200000], df2[500000:]])"
   ]
  },
  {
   "cell_type": "code",
   "execution_count": 130,
   "metadata": {},
   "outputs": [],
   "source": [
    "df.to_csv(r'D:\\dataGasLeaks\\part1_ready.csv')"
   ]
  },
  {
   "cell_type": "code",
   "execution_count": null,
   "metadata": {},
   "outputs": [],
   "source": []
  },
  {
   "cell_type": "code",
   "execution_count": null,
   "metadata": {},
   "outputs": [],
   "source": []
  },
  {
   "cell_type": "markdown",
   "metadata": {},
   "source": [
    "# Include 311 complaints into data"
   ]
  },
  {
   "cell_type": "code",
   "execution_count": 202,
   "metadata": {},
   "outputs": [],
   "source": [
    "df = pd.read_csv(r'D:\\dataGasLeaks\\final_311_data.csv')\n",
    "df_original = pd.read_csv(r'C:\\Users\\mskac\\machineLearning\\GasLeakConEd\\data\\processed\\important_(used_in_app)\\Merged_asc_fdny_data.csv')"
   ]
  },
  {
   "cell_type": "code",
   "execution_count": 203,
   "metadata": {},
   "outputs": [],
   "source": [
    "df = df.rename(columns={'year': 'incident_year', 'count': '311complaints'})\n",
    "df = df.groupby(['geoid', 'incident_year']).agg({'311complaints': 'sum'})\n",
    "\n",
    "df_new = pd.merge(df_original, df, on=['geoid','incident_year'], how='left')\n",
    "df_new['population'] = df_new['gas_leaks']/df_new['gas_leaks_per_person']"
   ]
  },
  {
   "cell_type": "code",
   "execution_count": 215,
   "metadata": {},
   "outputs": [],
   "source": [
    "df_new['311compl_per_person'] = df_new['311complaints']/df_new['population']\n",
    "df_new.drop(['Unnamed: 0', '311complaints','population'], axis = 1, inplace = True)"
   ]
  },
  {
   "cell_type": "code",
   "execution_count": 217,
   "metadata": {},
   "outputs": [],
   "source": [
    "df_new.to_csv(r'C:\\Users\\mskac\\machineLearning\\GasLeakConEd\\data\\processed\\important_(used_in_app)\\Merged_asc_fdny_data1.csv')"
   ]
  },
  {
   "cell_type": "markdown",
   "metadata": {},
   "source": [
    "## All years data"
   ]
  },
  {
   "cell_type": "code",
   "execution_count": 231,
   "metadata": {},
   "outputs": [],
   "source": [
    "df = pd.read_csv(r'D:\\dataGasLeaks\\final_311_data.csv')\n",
    "df_original = pd.read_csv(r'C:\\Users\\mskac\\machineLearning\\GasLeakConEd\\data\\processed\\important_(used_in_app)\\Merged_asc_fdny_data.csv')\n",
    "df_goal = pd.read_csv(r'C:\\Users\\mskac\\machineLearning\\GasLeakConEd\\data\\processed\\important_(used_in_app)\\Merged_asc_fdny_data_all_years.csv')"
   ]
  },
  {
   "cell_type": "code",
   "execution_count": 233,
   "metadata": {},
   "outputs": [],
   "source": [
    "df_original['population'] = df_original['gas_leaks']/df_original['gas_leaks_per_person']\n",
    "df_original = df_original.groupby('geoid').agg({'population': 'sum'})"
   ]
  },
  {
   "cell_type": "code",
   "execution_count": 234,
   "metadata": {},
   "outputs": [],
   "source": [
    "df = df.groupby('geoid').agg({'count': 'sum'})\n",
    "\n",
    "df_new = pd.merge(df_original, df, on=['geoid'], how='left')\n",
    "df_new['311compl_per_person'] = df_new['count']/df_new['population']"
   ]
  },
  {
   "cell_type": "code",
   "execution_count": 235,
   "metadata": {},
   "outputs": [
    {
     "data": {
      "text/plain": [
       "Index(['geoid', 'population', 'count', '311compl_per_person'], dtype='object')"
      ]
     },
     "execution_count": 235,
     "metadata": {},
     "output_type": "execute_result"
    }
   ],
   "source": [
    "df_new = df_new.reset_index()\n",
    "df_new.columns"
   ]
  },
  {
   "cell_type": "code",
   "execution_count": 236,
   "metadata": {},
   "outputs": [
    {
     "data": {
      "text/html": [
       "<div>\n",
       "<style scoped>\n",
       "    .dataframe tbody tr th:only-of-type {\n",
       "        vertical-align: middle;\n",
       "    }\n",
       "\n",
       "    .dataframe tbody tr th {\n",
       "        vertical-align: top;\n",
       "    }\n",
       "\n",
       "    .dataframe thead th {\n",
       "        text-align: right;\n",
       "    }\n",
       "</style>\n",
       "<table border=\"1\" class=\"dataframe\">\n",
       "  <thead>\n",
       "    <tr style=\"text-align: right;\">\n",
       "      <th></th>\n",
       "      <th>geoid</th>\n",
       "      <th>311compl_per_person</th>\n",
       "    </tr>\n",
       "  </thead>\n",
       "  <tbody>\n",
       "    <tr>\n",
       "      <th>0</th>\n",
       "      <td>36005000200</td>\n",
       "      <td>0.261595</td>\n",
       "    </tr>\n",
       "    <tr>\n",
       "      <th>1</th>\n",
       "      <td>36005000400</td>\n",
       "      <td>0.191689</td>\n",
       "    </tr>\n",
       "    <tr>\n",
       "      <th>2</th>\n",
       "      <td>36005001600</td>\n",
       "      <td>0.145979</td>\n",
       "    </tr>\n",
       "    <tr>\n",
       "      <th>3</th>\n",
       "      <td>36005001900</td>\n",
       "      <td>0.644376</td>\n",
       "    </tr>\n",
       "    <tr>\n",
       "      <th>4</th>\n",
       "      <td>36005002000</td>\n",
       "      <td>0.141996</td>\n",
       "    </tr>\n",
       "  </tbody>\n",
       "</table>\n",
       "</div>"
      ],
      "text/plain": [
       "         geoid  311compl_per_person\n",
       "0  36005000200             0.261595\n",
       "1  36005000400             0.191689\n",
       "2  36005001600             0.145979\n",
       "3  36005001900             0.644376\n",
       "4  36005002000             0.141996"
      ]
     },
     "execution_count": 236,
     "metadata": {},
     "output_type": "execute_result"
    }
   ],
   "source": [
    "df_new.drop(['count','population'], axis = 1, inplace = True)\n",
    "df_new.head()"
   ]
  },
  {
   "cell_type": "code",
   "execution_count": 237,
   "metadata": {},
   "outputs": [
    {
     "data": {
      "text/html": [
       "<div>\n",
       "<style scoped>\n",
       "    .dataframe tbody tr th:only-of-type {\n",
       "        vertical-align: middle;\n",
       "    }\n",
       "\n",
       "    .dataframe tbody tr th {\n",
       "        vertical-align: top;\n",
       "    }\n",
       "\n",
       "    .dataframe thead th {\n",
       "        text-align: right;\n",
       "    }\n",
       "</style>\n",
       "<table border=\"1\" class=\"dataframe\">\n",
       "  <thead>\n",
       "    <tr style=\"text-align: right;\">\n",
       "      <th></th>\n",
       "      <th>Unnamed: 0</th>\n",
       "      <th>%housh_grandp_resp_for_grandch</th>\n",
       "      <th>avg_houshold_size</th>\n",
       "      <th>avg_bldg_age</th>\n",
       "      <th>gas_leaks</th>\n",
       "      <th>gas_leaks_per_person</th>\n",
       "      <th>geoid</th>\n",
       "      <th>lonely_housholder%</th>\n",
       "      <th>lonely_housholder_over65%</th>\n",
       "      <th>mean_houshold_income</th>\n",
       "      <th>median_age</th>\n",
       "      <th>nonfamily_housholds%</th>\n",
       "      <th>not_us_citizen%</th>\n",
       "      <th>total_housing_units</th>\n",
       "      <th>unemployed%</th>\n",
       "      <th>vacant_housing_units%</th>\n",
       "      <th>311compl_per_person</th>\n",
       "    </tr>\n",
       "  </thead>\n",
       "  <tbody>\n",
       "    <tr>\n",
       "      <th>0</th>\n",
       "      <td>0</td>\n",
       "      <td>5.553494</td>\n",
       "      <td>3.730000</td>\n",
       "      <td>63.858957</td>\n",
       "      <td>38</td>\n",
       "      <td>0.001258</td>\n",
       "      <td>36005000200</td>\n",
       "      <td>17.439703</td>\n",
       "      <td>8.188002</td>\n",
       "      <td>75457.16667</td>\n",
       "      <td>38.300000</td>\n",
       "      <td>20.519481</td>\n",
       "      <td>13.337968</td>\n",
       "      <td>8880</td>\n",
       "      <td>4.217565</td>\n",
       "      <td>8.952703</td>\n",
       "      <td>0.261595</td>\n",
       "    </tr>\n",
       "    <tr>\n",
       "      <th>1</th>\n",
       "      <td>1</td>\n",
       "      <td>1.970487</td>\n",
       "      <td>3.031667</td>\n",
       "      <td>52.749939</td>\n",
       "      <td>49</td>\n",
       "      <td>0.001425</td>\n",
       "      <td>36005000400</td>\n",
       "      <td>16.311743</td>\n",
       "      <td>5.876116</td>\n",
       "      <td>85459.33333</td>\n",
       "      <td>38.016667</td>\n",
       "      <td>21.525139</td>\n",
       "      <td>7.444241</td>\n",
       "      <td>12399</td>\n",
       "      <td>3.986740</td>\n",
       "      <td>8.726510</td>\n",
       "      <td>0.191689</td>\n",
       "    </tr>\n",
       "    <tr>\n",
       "      <th>2</th>\n",
       "      <td>2</td>\n",
       "      <td>0.826587</td>\n",
       "      <td>2.815000</td>\n",
       "      <td>56.219298</td>\n",
       "      <td>99</td>\n",
       "      <td>0.002862</td>\n",
       "      <td>36005001600</td>\n",
       "      <td>27.158074</td>\n",
       "      <td>13.583298</td>\n",
       "      <td>47136.66667</td>\n",
       "      <td>37.466667</td>\n",
       "      <td>27.942054</td>\n",
       "      <td>16.517315</td>\n",
       "      <td>12290</td>\n",
       "      <td>3.173961</td>\n",
       "      <td>4.515867</td>\n",
       "      <td>0.145979</td>\n",
       "    </tr>\n",
       "    <tr>\n",
       "      <th>3</th>\n",
       "      <td>3</td>\n",
       "      <td>2.451161</td>\n",
       "      <td>2.425000</td>\n",
       "      <td>83.272222</td>\n",
       "      <td>38</td>\n",
       "      <td>0.002377</td>\n",
       "      <td>36005001900</td>\n",
       "      <td>37.670475</td>\n",
       "      <td>1.787689</td>\n",
       "      <td>47365.33333</td>\n",
       "      <td>31.333333</td>\n",
       "      <td>47.806856</td>\n",
       "      <td>15.832604</td>\n",
       "      <td>5763</td>\n",
       "      <td>8.438634</td>\n",
       "      <td>5.847649</td>\n",
       "      <td>0.644376</td>\n",
       "    </tr>\n",
       "    <tr>\n",
       "      <th>4</th>\n",
       "      <td>4</td>\n",
       "      <td>4.998347</td>\n",
       "      <td>2.981667</td>\n",
       "      <td>75.921555</td>\n",
       "      <td>314</td>\n",
       "      <td>0.005806</td>\n",
       "      <td>36005002000</td>\n",
       "      <td>29.499614</td>\n",
       "      <td>13.126860</td>\n",
       "      <td>34932.00000</td>\n",
       "      <td>33.416667</td>\n",
       "      <td>30.342775</td>\n",
       "      <td>9.354833</td>\n",
       "      <td>19106</td>\n",
       "      <td>5.571479</td>\n",
       "      <td>5.024600</td>\n",
       "      <td>0.141996</td>\n",
       "    </tr>\n",
       "    <tr>\n",
       "      <th>...</th>\n",
       "      <td>...</td>\n",
       "      <td>...</td>\n",
       "      <td>...</td>\n",
       "      <td>...</td>\n",
       "      <td>...</td>\n",
       "      <td>...</td>\n",
       "      <td>...</td>\n",
       "      <td>...</td>\n",
       "      <td>...</td>\n",
       "      <td>...</td>\n",
       "      <td>...</td>\n",
       "      <td>...</td>\n",
       "      <td>...</td>\n",
       "      <td>...</td>\n",
       "      <td>...</td>\n",
       "      <td>...</td>\n",
       "      <td>...</td>\n",
       "    </tr>\n",
       "    <tr>\n",
       "      <th>2046</th>\n",
       "      <td>2046</td>\n",
       "      <td>0.898835</td>\n",
       "      <td>2.738333</td>\n",
       "      <td>46.795396</td>\n",
       "      <td>46</td>\n",
       "      <td>0.001538</td>\n",
       "      <td>36085030301</td>\n",
       "      <td>28.313308</td>\n",
       "      <td>9.933046</td>\n",
       "      <td>77313.50000</td>\n",
       "      <td>35.233333</td>\n",
       "      <td>32.844171</td>\n",
       "      <td>8.059123</td>\n",
       "      <td>11350</td>\n",
       "      <td>3.501204</td>\n",
       "      <td>3.938326</td>\n",
       "      <td>0.158608</td>\n",
       "    </tr>\n",
       "    <tr>\n",
       "      <th>2047</th>\n",
       "      <td>2047</td>\n",
       "      <td>1.448905</td>\n",
       "      <td>3.231667</td>\n",
       "      <td>34.557914</td>\n",
       "      <td>38</td>\n",
       "      <td>0.001002</td>\n",
       "      <td>36085030302</td>\n",
       "      <td>13.219126</td>\n",
       "      <td>4.321145</td>\n",
       "      <td>85669.83333</td>\n",
       "      <td>35.483333</td>\n",
       "      <td>16.372624</td>\n",
       "      <td>13.835732</td>\n",
       "      <td>12509</td>\n",
       "      <td>2.778217</td>\n",
       "      <td>6.203533</td>\n",
       "      <td>0.178475</td>\n",
       "    </tr>\n",
       "    <tr>\n",
       "      <th>2048</th>\n",
       "      <td>2048</td>\n",
       "      <td>2.962029</td>\n",
       "      <td>2.600000</td>\n",
       "      <td>43.612317</td>\n",
       "      <td>97</td>\n",
       "      <td>0.005873</td>\n",
       "      <td>36085031901</td>\n",
       "      <td>24.452497</td>\n",
       "      <td>15.976052</td>\n",
       "      <td>35690.00000</td>\n",
       "      <td>30.050000</td>\n",
       "      <td>24.452497</td>\n",
       "      <td>9.676052</td>\n",
       "      <td>7213</td>\n",
       "      <td>3.645171</td>\n",
       "      <td>12.006100</td>\n",
       "      <td>0.189949</td>\n",
       "    </tr>\n",
       "    <tr>\n",
       "      <th>2049</th>\n",
       "      <td>2049</td>\n",
       "      <td>2.276439</td>\n",
       "      <td>2.886667</td>\n",
       "      <td>56.334072</td>\n",
       "      <td>22</td>\n",
       "      <td>0.000774</td>\n",
       "      <td>36085031902</td>\n",
       "      <td>21.355655</td>\n",
       "      <td>6.900776</td>\n",
       "      <td>54850.66667</td>\n",
       "      <td>28.733333</td>\n",
       "      <td>24.938751</td>\n",
       "      <td>9.278024</td>\n",
       "      <td>11354</td>\n",
       "      <td>2.469918</td>\n",
       "      <td>13.722036</td>\n",
       "      <td>0.280100</td>\n",
       "    </tr>\n",
       "    <tr>\n",
       "      <th>2050</th>\n",
       "      <td>2050</td>\n",
       "      <td>0.424328</td>\n",
       "      <td>2.431667</td>\n",
       "      <td>43.905085</td>\n",
       "      <td>36</td>\n",
       "      <td>0.005245</td>\n",
       "      <td>36085032300</td>\n",
       "      <td>25.459689</td>\n",
       "      <td>5.940594</td>\n",
       "      <td>75596.83333</td>\n",
       "      <td>41.650000</td>\n",
       "      <td>27.899576</td>\n",
       "      <td>10.868298</td>\n",
       "      <td>3091</td>\n",
       "      <td>3.802448</td>\n",
       "      <td>8.508573</td>\n",
       "      <td>0.396562</td>\n",
       "    </tr>\n",
       "  </tbody>\n",
       "</table>\n",
       "<p>2051 rows × 17 columns</p>\n",
       "</div>"
      ],
      "text/plain": [
       "      Unnamed: 0  %housh_grandp_resp_for_grandch  avg_houshold_size  \\\n",
       "0              0                        5.553494           3.730000   \n",
       "1              1                        1.970487           3.031667   \n",
       "2              2                        0.826587           2.815000   \n",
       "3              3                        2.451161           2.425000   \n",
       "4              4                        4.998347           2.981667   \n",
       "...          ...                             ...                ...   \n",
       "2046        2046                        0.898835           2.738333   \n",
       "2047        2047                        1.448905           3.231667   \n",
       "2048        2048                        2.962029           2.600000   \n",
       "2049        2049                        2.276439           2.886667   \n",
       "2050        2050                        0.424328           2.431667   \n",
       "\n",
       "      avg_bldg_age  gas_leaks  gas_leaks_per_person        geoid  \\\n",
       "0        63.858957         38              0.001258  36005000200   \n",
       "1        52.749939         49              0.001425  36005000400   \n",
       "2        56.219298         99              0.002862  36005001600   \n",
       "3        83.272222         38              0.002377  36005001900   \n",
       "4        75.921555        314              0.005806  36005002000   \n",
       "...            ...        ...                   ...          ...   \n",
       "2046     46.795396         46              0.001538  36085030301   \n",
       "2047     34.557914         38              0.001002  36085030302   \n",
       "2048     43.612317         97              0.005873  36085031901   \n",
       "2049     56.334072         22              0.000774  36085031902   \n",
       "2050     43.905085         36              0.005245  36085032300   \n",
       "\n",
       "      lonely_housholder%  lonely_housholder_over65%  mean_houshold_income  \\\n",
       "0              17.439703                   8.188002           75457.16667   \n",
       "1              16.311743                   5.876116           85459.33333   \n",
       "2              27.158074                  13.583298           47136.66667   \n",
       "3              37.670475                   1.787689           47365.33333   \n",
       "4              29.499614                  13.126860           34932.00000   \n",
       "...                  ...                        ...                   ...   \n",
       "2046           28.313308                   9.933046           77313.50000   \n",
       "2047           13.219126                   4.321145           85669.83333   \n",
       "2048           24.452497                  15.976052           35690.00000   \n",
       "2049           21.355655                   6.900776           54850.66667   \n",
       "2050           25.459689                   5.940594           75596.83333   \n",
       "\n",
       "      median_age  nonfamily_housholds%  not_us_citizen%  total_housing_units  \\\n",
       "0      38.300000             20.519481        13.337968                 8880   \n",
       "1      38.016667             21.525139         7.444241                12399   \n",
       "2      37.466667             27.942054        16.517315                12290   \n",
       "3      31.333333             47.806856        15.832604                 5763   \n",
       "4      33.416667             30.342775         9.354833                19106   \n",
       "...          ...                   ...              ...                  ...   \n",
       "2046   35.233333             32.844171         8.059123                11350   \n",
       "2047   35.483333             16.372624        13.835732                12509   \n",
       "2048   30.050000             24.452497         9.676052                 7213   \n",
       "2049   28.733333             24.938751         9.278024                11354   \n",
       "2050   41.650000             27.899576        10.868298                 3091   \n",
       "\n",
       "      unemployed%  vacant_housing_units%  311compl_per_person  \n",
       "0        4.217565               8.952703             0.261595  \n",
       "1        3.986740               8.726510             0.191689  \n",
       "2        3.173961               4.515867             0.145979  \n",
       "3        8.438634               5.847649             0.644376  \n",
       "4        5.571479               5.024600             0.141996  \n",
       "...           ...                    ...                  ...  \n",
       "2046     3.501204               3.938326             0.158608  \n",
       "2047     2.778217               6.203533             0.178475  \n",
       "2048     3.645171              12.006100             0.189949  \n",
       "2049     2.469918              13.722036             0.280100  \n",
       "2050     3.802448               8.508573             0.396562  \n",
       "\n",
       "[2051 rows x 17 columns]"
      ]
     },
     "execution_count": 237,
     "metadata": {},
     "output_type": "execute_result"
    }
   ],
   "source": [
    "df_goal = pd.merge(df_goal, df_new, on=['geoid'], how='left')\n",
    "df_goal"
   ]
  },
  {
   "cell_type": "code",
   "execution_count": 239,
   "metadata": {},
   "outputs": [],
   "source": [
    "df_goal.to_csv(r'C:\\Users\\mskac\\machineLearning\\GasLeakConEd\\data\\processed\\important_(used_in_app)\\Merged_asc_fdny_data_all_years1.csv')"
   ]
  },
  {
   "cell_type": "code",
   "execution_count": null,
   "metadata": {},
   "outputs": [],
   "source": []
  }
 ],
 "metadata": {
  "kernelspec": {
   "display_name": "Python 3",
   "language": "python",
   "name": "python3"
  },
  "language_info": {
   "codemirror_mode": {
    "name": "ipython",
    "version": 3
   },
   "file_extension": ".py",
   "mimetype": "text/x-python",
   "name": "python",
   "nbconvert_exporter": "python",
   "pygments_lexer": "ipython3",
   "version": "3.7.7"
  }
 },
 "nbformat": 4,
 "nbformat_minor": 4
}
