{
 "cells": [
  {
   "cell_type": "code",
   "execution_count": 15,
   "metadata": {},
   "outputs": [],
   "source": [
    "import plotly.offline as py\n",
    "import plotly.graph_objs as graph_objs\n",
    "import pandas as pd\n",
    "import geopandas as gpd\n",
    "import numpy as np\n",
    "import re\n",
    "\n",
    "mapbox_access_token = \"pk.eyJ1IjoibWlzaGtpY2UiLCJhIjoiY2s5MG94bWRoMDQxdjNmcHI1aWI1YnFkYyJ9.eFsHqEMYY7qxa0Pb9USCtQ\""
   ]
  },
  {
   "cell_type": "code",
   "execution_count": 16,
   "metadata": {},
   "outputs": [],
   "source": [
    "dfg = gpd.read_file('C:/Users/mskac/machineLearning/GasLeakConEd/data/2010_census_tracks_with_geoid.geojson')\n",
    "dfg.columns = map(str.lower, dfg.columns)\n",
    "dfg = dfg.applymap(lambda s:s.lower() if type(s) == str else s)"
   ]
  },
  {
   "cell_type": "code",
   "execution_count": 17,
   "metadata": {},
   "outputs": [
    {
     "data": {
      "text/html": [
       "<div>\n",
       "<style scoped>\n",
       "    .dataframe tbody tr th:only-of-type {\n",
       "        vertical-align: middle;\n",
       "    }\n",
       "\n",
       "    .dataframe tbody tr th {\n",
       "        vertical-align: top;\n",
       "    }\n",
       "\n",
       "    .dataframe thead th {\n",
       "        text-align: right;\n",
       "    }\n",
       "</style>\n",
       "<table border=\"1\" class=\"dataframe\">\n",
       "  <thead>\n",
       "    <tr style=\"text-align: right;\">\n",
       "      <th></th>\n",
       "      <th>geoid</th>\n",
       "      <th>ntaname</th>\n",
       "      <th>boro_name</th>\n",
       "      <th>shape_area</th>\n",
       "      <th>geometry</th>\n",
       "    </tr>\n",
       "  </thead>\n",
       "  <tbody>\n",
       "    <tr>\n",
       "      <th>0</th>\n",
       "      <td>36047051100</td>\n",
       "      <td>east williamsburg</td>\n",
       "      <td>brooklyn</td>\n",
       "      <td>1711548.77397</td>\n",
       "      <td>MULTIPOLYGON (((-73.94626 40.70560, -73.94798 ...</td>\n",
       "    </tr>\n",
       "    <tr>\n",
       "      <th>1</th>\n",
       "      <td>36047055300</td>\n",
       "      <td>north side-south side</td>\n",
       "      <td>brooklyn</td>\n",
       "      <td>1681865.77484</td>\n",
       "      <td>MULTIPOLYGON (((-73.95584 40.71759, -73.95644 ...</td>\n",
       "    </tr>\n",
       "    <tr>\n",
       "      <th>2</th>\n",
       "      <td>36047057500</td>\n",
       "      <td>greenpoint</td>\n",
       "      <td>brooklyn</td>\n",
       "      <td>2014844.59084</td>\n",
       "      <td>MULTIPOLYGON (((-73.95066 40.72900, -73.95073 ...</td>\n",
       "    </tr>\n",
       "    <tr>\n",
       "      <th>3</th>\n",
       "      <td>36047052700</td>\n",
       "      <td>north side-south side</td>\n",
       "      <td>brooklyn</td>\n",
       "      <td>2045672.64233</td>\n",
       "      <td>MULTIPOLYGON (((-73.95083 40.70914, -73.95076 ...</td>\n",
       "    </tr>\n",
       "    <tr>\n",
       "      <th>4</th>\n",
       "      <td>36047052900</td>\n",
       "      <td>williamsburg</td>\n",
       "      <td>brooklyn</td>\n",
       "      <td>1882580.923</td>\n",
       "      <td>MULTIPOLYGON (((-73.95024 40.70547, -73.95190 ...</td>\n",
       "    </tr>\n",
       "  </tbody>\n",
       "</table>\n",
       "</div>"
      ],
      "text/plain": [
       "         geoid                ntaname boro_name     shape_area  \\\n",
       "0  36047051100      east williamsburg  brooklyn  1711548.77397   \n",
       "1  36047055300  north side-south side  brooklyn  1681865.77484   \n",
       "2  36047057500             greenpoint  brooklyn  2014844.59084   \n",
       "3  36047052700  north side-south side  brooklyn  2045672.64233   \n",
       "4  36047052900           williamsburg  brooklyn    1882580.923   \n",
       "\n",
       "                                            geometry  \n",
       "0  MULTIPOLYGON (((-73.94626 40.70560, -73.94798 ...  \n",
       "1  MULTIPOLYGON (((-73.95584 40.71759, -73.95644 ...  \n",
       "2  MULTIPOLYGON (((-73.95066 40.72900, -73.95073 ...  \n",
       "3  MULTIPOLYGON (((-73.95083 40.70914, -73.95076 ...  \n",
       "4  MULTIPOLYGON (((-73.95024 40.70547, -73.95190 ...  "
      ]
     },
     "execution_count": 17,
     "metadata": {},
     "output_type": "execute_result"
    }
   ],
   "source": [
    "dfg = dfg[['geoid', 'ntaname', 'boro_name', 'shape_area', 'geometry']]\n",
    "dfg.head()"
   ]
  },
  {
   "cell_type": "code",
   "execution_count": 18,
   "metadata": {
    "scrolled": true
   },
   "outputs": [
    {
     "data": {
      "text/html": [
       "<div>\n",
       "<style scoped>\n",
       "    .dataframe tbody tr th:only-of-type {\n",
       "        vertical-align: middle;\n",
       "    }\n",
       "\n",
       "    .dataframe tbody tr th {\n",
       "        vertical-align: top;\n",
       "    }\n",
       "\n",
       "    .dataframe thead th {\n",
       "        text-align: right;\n",
       "    }\n",
       "</style>\n",
       "<table border=\"1\" class=\"dataframe\">\n",
       "  <thead>\n",
       "    <tr style=\"text-align: right;\">\n",
       "      <th></th>\n",
       "      <th>geoid</th>\n",
       "      <th>nta</th>\n",
       "      <th>boro</th>\n",
       "      <th>shape_area</th>\n",
       "      <th>geometry</th>\n",
       "    </tr>\n",
       "  </thead>\n",
       "  <tbody>\n",
       "    <tr>\n",
       "      <th>0</th>\n",
       "      <td>36047051100</td>\n",
       "      <td>east williamsburg</td>\n",
       "      <td>brooklyn</td>\n",
       "      <td>1711548.77397</td>\n",
       "      <td>MULTIPOLYGON (((-73.94626 40.70560, -73.94798 ...</td>\n",
       "    </tr>\n",
       "    <tr>\n",
       "      <th>1</th>\n",
       "      <td>36047055300</td>\n",
       "      <td>north side-south side</td>\n",
       "      <td>brooklyn</td>\n",
       "      <td>1681865.77484</td>\n",
       "      <td>MULTIPOLYGON (((-73.95584 40.71759, -73.95644 ...</td>\n",
       "    </tr>\n",
       "    <tr>\n",
       "      <th>2</th>\n",
       "      <td>36047057500</td>\n",
       "      <td>greenpoint</td>\n",
       "      <td>brooklyn</td>\n",
       "      <td>2014844.59084</td>\n",
       "      <td>MULTIPOLYGON (((-73.95066 40.72900, -73.95073 ...</td>\n",
       "    </tr>\n",
       "    <tr>\n",
       "      <th>3</th>\n",
       "      <td>36047052700</td>\n",
       "      <td>north side-south side</td>\n",
       "      <td>brooklyn</td>\n",
       "      <td>2045672.64233</td>\n",
       "      <td>MULTIPOLYGON (((-73.95083 40.70914, -73.95076 ...</td>\n",
       "    </tr>\n",
       "    <tr>\n",
       "      <th>4</th>\n",
       "      <td>36047052900</td>\n",
       "      <td>williamsburg</td>\n",
       "      <td>brooklyn</td>\n",
       "      <td>1882580.923</td>\n",
       "      <td>MULTIPOLYGON (((-73.95024 40.70547, -73.95190 ...</td>\n",
       "    </tr>\n",
       "  </tbody>\n",
       "</table>\n",
       "</div>"
      ],
      "text/plain": [
       "         geoid                    nta      boro     shape_area  \\\n",
       "0  36047051100      east williamsburg  brooklyn  1711548.77397   \n",
       "1  36047055300  north side-south side  brooklyn  1681865.77484   \n",
       "2  36047057500             greenpoint  brooklyn  2014844.59084   \n",
       "3  36047052700  north side-south side  brooklyn  2045672.64233   \n",
       "4  36047052900           williamsburg  brooklyn    1882580.923   \n",
       "\n",
       "                                            geometry  \n",
       "0  MULTIPOLYGON (((-73.94626 40.70560, -73.94798 ...  \n",
       "1  MULTIPOLYGON (((-73.95584 40.71759, -73.95644 ...  \n",
       "2  MULTIPOLYGON (((-73.95066 40.72900, -73.95073 ...  \n",
       "3  MULTIPOLYGON (((-73.95083 40.70914, -73.95076 ...  \n",
       "4  MULTIPOLYGON (((-73.95024 40.70547, -73.95190 ...  "
      ]
     },
     "execution_count": 18,
     "metadata": {},
     "output_type": "execute_result"
    }
   ],
   "source": [
    "dfg.rename(columns={'boro_name': 'boro', 'ntaname': 'nta'}, inplace=True)\n",
    "dfg.head()"
   ]
  },
  {
   "cell_type": "code",
   "execution_count": 19,
   "metadata": {},
   "outputs": [],
   "source": [
    "full_df = pd.read_csv('C:/Users/mskac/machineLearning/GasLeakConEd/data/data_with_centroids.csv')"
   ]
  },
  {
   "cell_type": "code",
   "execution_count": 20,
   "metadata": {},
   "outputs": [],
   "source": [
    "full_df.drop(['Unnamed: 0'], axis = 1, inplace = True)"
   ]
  },
  {
   "cell_type": "code",
   "execution_count": 24,
   "metadata": {},
   "outputs": [
    {
     "data": {
      "text/html": [
       "<div>\n",
       "<style scoped>\n",
       "    .dataframe tbody tr th:only-of-type {\n",
       "        vertical-align: middle;\n",
       "    }\n",
       "\n",
       "    .dataframe tbody tr th {\n",
       "        vertical-align: top;\n",
       "    }\n",
       "\n",
       "    .dataframe thead th {\n",
       "        text-align: right;\n",
       "    }\n",
       "</style>\n",
       "<table border=\"1\" class=\"dataframe\">\n",
       "  <thead>\n",
       "    <tr style=\"text-align: right;\">\n",
       "      <th></th>\n",
       "      <th>geoid</th>\n",
       "      <th>gasleaks_per_person</th>\n",
       "      <th>crimes_per_person</th>\n",
       "      <th>centerLong</th>\n",
       "      <th>centerLat</th>\n",
       "    </tr>\n",
       "  </thead>\n",
       "  <tbody>\n",
       "    <tr>\n",
       "      <th>count</th>\n",
       "      <td>9.540000e+02</td>\n",
       "      <td>954.000000</td>\n",
       "      <td>954.000000</td>\n",
       "      <td>954.000000</td>\n",
       "      <td>954.000000</td>\n",
       "    </tr>\n",
       "    <tr>\n",
       "      <th>mean</th>\n",
       "      <td>3.605836e+10</td>\n",
       "      <td>0.018130</td>\n",
       "      <td>0.019991</td>\n",
       "      <td>-73.867843</td>\n",
       "      <td>40.769477</td>\n",
       "    </tr>\n",
       "    <tr>\n",
       "      <th>std</th>\n",
       "      <td>3.109543e+07</td>\n",
       "      <td>0.302819</td>\n",
       "      <td>0.166655</td>\n",
       "      <td>0.066386</td>\n",
       "      <td>0.065500</td>\n",
       "    </tr>\n",
       "    <tr>\n",
       "      <th>min</th>\n",
       "      <td>3.600500e+10</td>\n",
       "      <td>0.000180</td>\n",
       "      <td>0.001119</td>\n",
       "      <td>-74.002862</td>\n",
       "      <td>40.584764</td>\n",
       "    </tr>\n",
       "    <tr>\n",
       "      <th>25%</th>\n",
       "      <td>3.606101e+10</td>\n",
       "      <td>0.001674</td>\n",
       "      <td>0.005712</td>\n",
       "      <td>-73.912702</td>\n",
       "      <td>40.719181</td>\n",
       "    </tr>\n",
       "    <tr>\n",
       "      <th>50%</th>\n",
       "      <td>3.608101e+10</td>\n",
       "      <td>0.003621</td>\n",
       "      <td>0.007918</td>\n",
       "      <td>-73.868882</td>\n",
       "      <td>40.757632</td>\n",
       "    </tr>\n",
       "    <tr>\n",
       "      <th>75%</th>\n",
       "      <td>3.608105e+10</td>\n",
       "      <td>0.007409</td>\n",
       "      <td>0.011504</td>\n",
       "      <td>-73.820327</td>\n",
       "      <td>40.827863</td>\n",
       "    </tr>\n",
       "    <tr>\n",
       "      <th>max</th>\n",
       "      <td>3.608116e+10</td>\n",
       "      <td>9.285714</td>\n",
       "      <td>4.714286</td>\n",
       "      <td>-73.711998</td>\n",
       "      <td>40.912950</td>\n",
       "    </tr>\n",
       "  </tbody>\n",
       "</table>\n",
       "</div>"
      ],
      "text/plain": [
       "              geoid  gasleaks_per_person  crimes_per_person  centerLong  \\\n",
       "count  9.540000e+02           954.000000         954.000000  954.000000   \n",
       "mean   3.605836e+10             0.018130           0.019991  -73.867843   \n",
       "std    3.109543e+07             0.302819           0.166655    0.066386   \n",
       "min    3.600500e+10             0.000180           0.001119  -74.002862   \n",
       "25%    3.606101e+10             0.001674           0.005712  -73.912702   \n",
       "50%    3.608101e+10             0.003621           0.007918  -73.868882   \n",
       "75%    3.608105e+10             0.007409           0.011504  -73.820327   \n",
       "max    3.608116e+10             9.285714           4.714286  -73.711998   \n",
       "\n",
       "        centerLat  \n",
       "count  954.000000  \n",
       "mean    40.769477  \n",
       "std      0.065500  \n",
       "min     40.584764  \n",
       "25%     40.719181  \n",
       "50%     40.757632  \n",
       "75%     40.827863  \n",
       "max     40.912950  "
      ]
     },
     "execution_count": 24,
     "metadata": {},
     "output_type": "execute_result"
    }
   ],
   "source": [
    "full_df.describe()"
   ]
  },
  {
   "cell_type": "code",
   "execution_count": 30,
   "metadata": {},
   "outputs": [
    {
     "data": {
      "text/plain": [
       "geoid                  418\n",
       "gasleaks_per_person    418\n",
       "crimes_per_person      418\n",
       "boro                   418\n",
       "nta                    418\n",
       "centerLong             418\n",
       "centerLat              418\n",
       "hover                  418\n",
       "dtype: int64"
      ]
     },
     "execution_count": 30,
     "metadata": {},
     "output_type": "execute_result"
    }
   ],
   "source": [
    "full_df[full_df['gasleaks_per_person']<0.003].count()"
   ]
  },
  {
   "cell_type": "markdown",
   "metadata": {},
   "source": [
    "Add bins column"
   ]
  },
  {
   "cell_type": "markdown",
   "metadata": {},
   "source": [
    "<h3>Bins for neighborhoods</h3>"
   ]
  },
  {
   "cell_type": "code",
   "execution_count": 38,
   "metadata": {},
   "outputs": [],
   "source": [
    "binsN_trees = [\n",
    "    \"0-500\",\n",
    "    \"501-1000\",\n",
    "    \"1001-1500\",\n",
    "    \"1501-2000\",\n",
    "    \"2001-2500\",\n",
    "    \"2501-3000\",\n",
    "    \"3001-3500\",\n",
    "    \"3501-4000\",\n",
    "    \"4001-4500\",\n",
    "    \"4501-5000\"\n",
    "]\n",
    "bins_leaks_per_person = [\n",
    "    \"0-0.0015\",\n",
    "    \"0.00151-0.003\",\n",
    "    \"0.0031-0.0045\",\n",
    "    \"0.00451-0.006\",\n",
    "    \"0.0061-0.0075\",\n",
    "    \"0.00751-0.009\",\n",
    "    \"0.0091-10\"\n",
    "]"
   ]
  },
  {
   "cell_type": "code",
   "execution_count": 48,
   "metadata": {},
   "outputs": [],
   "source": [
    "#full_dfN['bin']=full_dfN['trees/sq.mile'].apply(lambda x: binsN_trees[0] if int(x) <=500 else binsN_trees[1] if int(x) <=1000 else binsN_trees[2] if x <=1500 else binsN_trees[3] if int(x) <=2000 else binsN_trees[4] if int(x) <=2500 else binsN_trees[5] if int(x) <=3000 else binsN_trees[6] if int(x) <=3500 else binsN_trees[7] if int(x) <=4000 else binsN_trees[8] if int(x) <=4500 else binsN_trees[9] )\n",
    "full_df['bins_leaks_per_person']=full_df['gasleaks_per_person'].apply(lambda x: bins_leaks_per_person[0] if float(x) <=0.0015 else bins_leaks_per_person[1] if float(x) <=0.003 else bins_leaks_per_person[2] if float(x) <=0.0045 else bins_leaks_per_person[3] if float(x) <=0.006 else bins_leaks_per_person[4] if float(x) <=0.0075 else bins_leaks_per_person[5] if float(x) <=0.009 else bins_leaks_per_person[6] )"
   ]
  },
  {
   "cell_type": "code",
   "execution_count": 49,
   "metadata": {},
   "outputs": [],
   "source": [
    "dfg['geoid']= dfg['geoid'].astype('int64')"
   ]
  },
  {
   "cell_type": "markdown",
   "metadata": {},
   "source": [
    "<h3> Create geojson files according to bins</h3>"
   ]
  },
  {
   "cell_type": "code",
   "execution_count": 51,
   "metadata": {},
   "outputs": [
    {
     "name": "stdout",
     "output_type": "stream",
     "text": [
      "0-0.0015\n",
      "0.00151-0.003\n",
      "0.0031-0.0045\n",
      "0.00451-0.006\n",
      "0.0061-0.0075\n",
      "0.00751-0.009\n",
      "0.0091-10\n"
     ]
    }
   ],
   "source": [
    "merged = dfg.merge(full_df, on='geoid' )\n",
    "for bin in bins_leaks_per_person:\n",
    "    print(bin)\n",
    "    geo_layer = merged[(merged['bins_leaks_per_person'] == bin)] # geo\n",
    "    try:\n",
    "        geo_layer.to_file(\"C:/Users/mskac/machineLearning/GasLeakConEd/data/geolayers/gasleaks_per_person/{}.geojson\".format(bin), driver='GeoJSON')\n",
    "    except:\n",
    "        print('err')"
   ]
  },
  {
   "cell_type": "code",
   "execution_count": null,
   "metadata": {},
   "outputs": [],
   "source": []
  },
  {
   "cell_type": "code",
   "execution_count": null,
   "metadata": {},
   "outputs": [],
   "source": []
  }
 ],
 "metadata": {
  "kernelspec": {
   "display_name": "Python 3",
   "language": "python",
   "name": "python3"
  },
  "language_info": {
   "codemirror_mode": {
    "name": "ipython",
    "version": 3
   },
   "file_extension": ".py",
   "mimetype": "text/x-python",
   "name": "python",
   "nbconvert_exporter": "python",
   "pygments_lexer": "ipython3",
   "version": "3.7.6"
  }
 },
 "nbformat": 4,
 "nbformat_minor": 4
}
